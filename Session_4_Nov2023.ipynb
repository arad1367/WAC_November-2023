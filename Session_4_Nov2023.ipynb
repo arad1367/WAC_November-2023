{
  "nbformat": 4,
  "nbformat_minor": 0,
  "metadata": {
    "colab": {
      "provenance": [],
      "authorship_tag": "ABX9TyMV5tkW4n/VBFd1Im3+oQG6",
      "include_colab_link": true
    },
    "kernelspec": {
      "name": "python3",
      "display_name": "Python 3"
    },
    "language_info": {
      "name": "python"
    }
  },
  "cells": [
    {
      "cell_type": "markdown",
      "metadata": {
        "id": "view-in-github",
        "colab_type": "text"
      },
      "source": [
        "<a href=\"https://colab.research.google.com/github/arad1367/WAC_November-2023/blob/main/Session_4_Nov2023.ipynb\" target=\"_parent\"><img src=\"https://colab.research.google.com/assets/colab-badge.svg\" alt=\"Open In Colab\"/></a>"
      ]
    },
    {
      "cell_type": "markdown",
      "source": [
        "### Agenda of session 4\n",
        "\n",
        "* Object Oriented Programming (OOP)\n",
        "* Define a Class\n",
        "* Define a Car class : Creating multiple objects\n",
        "* Calculator class\n",
        "* Class with default parameters : Interview class (name, age, experience)\n",
        "* Inheritance\n",
        "* Error Handling\n",
        "* Module (random, time, datetime)"
      ],
      "metadata": {
        "id": "6RIKmr-8brjZ"
      }
    },
    {
      "cell_type": "code",
      "source": [
        "mylist = [100, 10, 6, 6, 6, 2, 200, 11, 13, 7, 7, 0, 0, 2, 4, 98, -5, -4, -8]\n",
        "\n",
        "unique_even_numbers = [num for num in mylist if num % 2 == 0] # list comprehension\n",
        "\n",
        "print(sorted(set(unique_even_numbers)))"
      ],
      "metadata": {
        "id": "hCwig6a9rsZF",
        "colab": {
          "base_uri": "https://localhost:8080/"
        },
        "outputId": "629edd31-754f-4c07-d0de-369af7c54c35"
      },
      "execution_count": 1,
      "outputs": [
        {
          "output_type": "stream",
          "name": "stdout",
          "text": [
            "[-8, -4, 0, 2, 4, 6, 10, 98, 100, 200]\n"
          ]
        }
      ]
    },
    {
      "cell_type": "markdown",
      "source": [
        "### Object Oriented Programming (OOP)\n",
        "\n",
        "* Object-oriented programming (OOP) is a computer programming model that organizes software design around data, or objects, rather than functions and logic"
      ],
      "metadata": {
        "id": "IENhMAVTtISz"
      }
    },
    {
      "cell_type": "markdown",
      "source": [
        "### Define a Class"
      ],
      "metadata": {
        "id": "rR0TwGKztcM_"
      }
    },
    {
      "cell_type": "code",
      "source": [
        "class Color:  # Every class can have some attributes and methods()\n",
        "  pass\n",
        "\n",
        "obj1 = Color() # obj1 is instantiated from Color class\n",
        "print(type(obj1))"
      ],
      "metadata": {
        "colab": {
          "base_uri": "https://localhost:8080/"
        },
        "id": "VpOQBQPwsxRB",
        "outputId": "a1c6c83d-ec3a-4881-d180-7fbc0d2f4735"
      },
      "execution_count": 3,
      "outputs": [
        {
          "output_type": "stream",
          "name": "stdout",
          "text": [
            "<class '__main__.Color'>\n"
          ]
        }
      ]
    },
    {
      "cell_type": "markdown",
      "source": [
        "### Define a Car class : Creating multiple objects"
      ],
      "metadata": {
        "id": "Wwah4aeKuid-"
      }
    },
    {
      "cell_type": "code",
      "source": [
        "class Car(object): # class Car:\n",
        "  # Constructor and attributes\n",
        "  def __init__(self, name, score):  # name and score are attributes\n",
        "    self.name = name\n",
        "    self.score = score\n",
        "\n",
        "  # methods\n",
        "  def price(self):\n",
        "    return f\"The price of car is: {self.score * 1000} $\"\n",
        "\n",
        "car1 = Car(name=\"Benz\", score=9)  # car1 is a object\n",
        "car2 = Car(name=\"Toyota\", score=7) # car2 is second object\n",
        "car1.name\n",
        "car2.name\n",
        "car1.price()\n",
        "car2.price()"
      ],
      "metadata": {
        "colab": {
          "base_uri": "https://localhost:8080/",
          "height": 36
        },
        "id": "d2VzteDKuNhm",
        "outputId": "1499b10a-ddcc-4cf9-bace-2f7a9937068c"
      },
      "execution_count": 7,
      "outputs": [
        {
          "output_type": "execute_result",
          "data": {
            "text/plain": [
              "'The price of car is: 7000 $'"
            ],
            "application/vnd.google.colaboratory.intrinsic+json": {
              "type": "string"
            }
          },
          "metadata": {},
          "execution_count": 7
        }
      ]
    },
    {
      "cell_type": "markdown",
      "source": [
        "### Calculator class"
      ],
      "metadata": {
        "id": "vrInvBwZwped"
      }
    },
    {
      "cell_type": "code",
      "source": [
        "class Calculator(object):\n",
        "  def __init__(self, x, y):\n",
        "    self.x = x\n",
        "    self.y = y\n",
        "\n",
        "  def add(self):\n",
        "    return self.x + self.y\n",
        "\n",
        "  def sub(self):\n",
        "    return self.x - self.y\n",
        "\n",
        "  def mul(self):\n",
        "    return self.x * self.y\n",
        "\n",
        "  def div(self):\n",
        "    try:\n",
        "      return self.x / self.y\n",
        "    except ZeroDivisionError as err:\n",
        "      print(f\"Error message is: {err}\")\n",
        "      print(\"Division by zero is not possible\")\n",
        "\n",
        "\n",
        "cal1 = Calculator(x=10, y=1)\n",
        "cal1.x, cal1.y # Access to attributes\n",
        "cal1.add()\n",
        "cal1.mul()\n",
        "cal1.div()"
      ],
      "metadata": {
        "colab": {
          "base_uri": "https://localhost:8080/"
        },
        "id": "951jJSL-v0HD",
        "outputId": "073d6c35-099c-4689-ad5b-94ebcafccb86"
      },
      "execution_count": 15,
      "outputs": [
        {
          "output_type": "execute_result",
          "data": {
            "text/plain": [
              "10.0"
            ]
          },
          "metadata": {},
          "execution_count": 15
        }
      ]
    },
    {
      "cell_type": "markdown",
      "source": [
        "### Class with default parameters : Interview class (name, age, experience)"
      ],
      "metadata": {
        "id": "CRHeDOjkzZNR"
      }
    },
    {
      "cell_type": "code",
      "source": [
        "class Interview(object):\n",
        "  def __init__(self, name, age=18, experience=True): # I want to use default parameters\n",
        "    if (age >= 18) and experience:\n",
        "      self.name = name\n",
        "      self.age = age\n",
        "      self.experience = experience\n",
        "\n",
        "  def hiring(self):\n",
        "    try:\n",
        "      return(f\"Congratulation dear {self.name}. You are hiring\")\n",
        "    except AttributeError as err:\n",
        "      return \"Sorry you are under 18 and not eligible for this position.\"\n",
        "\n",
        "\n",
        "candidate1 = Interview(name=\"Mike\")\n",
        "candidate1.age, candidate1.experience\n",
        "candidate1.hiring()\n",
        "\n",
        "candidate2 = Interview(name=\"Bon\", age=17)\n",
        "candidate2.hiring()\n",
        "\n",
        "candidate3 = Interview(name=\"Sara\")\n",
        "candidate3.hiring()"
      ],
      "metadata": {
        "colab": {
          "base_uri": "https://localhost:8080/",
          "height": 36
        },
        "id": "sr7g3ScWxXcY",
        "outputId": "60d42f20-137f-47c8-fcd2-ecf858eb76d7"
      },
      "execution_count": 27,
      "outputs": [
        {
          "output_type": "execute_result",
          "data": {
            "text/plain": [
              "'Congratulation dear Sara. You are hiring'"
            ],
            "application/vnd.google.colaboratory.intrinsic+json": {
              "type": "string"
            }
          },
          "metadata": {},
          "execution_count": 27
        }
      ]
    },
    {
      "cell_type": "markdown",
      "source": [
        "### Inheritance"
      ],
      "metadata": {
        "id": "Qd8tIESs27zy"
      }
    },
    {
      "cell_type": "code",
      "source": [
        "# Parent class\n",
        "class Person:\n",
        "  def __init__(self, name, age):\n",
        "    self.name = name\n",
        "    self.age = age\n",
        "\n",
        "  def identity(self):\n",
        "    return f'My name is {self.name} and I am {self.age} years old.'\n",
        "\n",
        "# Child class (Child class is inherited from parent class)\n",
        "class Employee(Person):\n",
        "  def __init__(self, years_of_experience, name, age):\n",
        "    super().__init__(name, age) # Access to attributes inside of parent class\n",
        "    self.years_of_experience = years_of_experience\n",
        "\n",
        "  def hiring(self):\n",
        "    return f'Dear {self.name}, you are hired because of {self.years_of_experience} years experiences.'\n",
        "\n",
        "# I want to use child class\n",
        "person1 = Employee(5, \"Mike\", 25)\n",
        "person1.hiring()\n",
        "person1.identity()"
      ],
      "metadata": {
        "colab": {
          "base_uri": "https://localhost:8080/",
          "height": 36
        },
        "id": "ZeC2Z7Lt0gWo",
        "outputId": "ebe7923e-c038-4e6d-f2c7-970bc7d1738f"
      },
      "execution_count": 32,
      "outputs": [
        {
          "output_type": "execute_result",
          "data": {
            "text/plain": [
              "'My name is Mike and I am 25 years old.'"
            ],
            "application/vnd.google.colaboratory.intrinsic+json": {
              "type": "string"
            }
          },
          "metadata": {},
          "execution_count": 32
        }
      ]
    },
    {
      "cell_type": "markdown",
      "source": [
        "### Error Handling"
      ],
      "metadata": {
        "id": "6mgUZZxY6D7P"
      }
    },
    {
      "cell_type": "code",
      "source": [
        "number1 = int(input(\"Please enter your first number: \"))\n",
        "number2 = int(input(\"Please enter your second number: \"))\n",
        "\n",
        "try:\n",
        "  result = number1 / number2\n",
        "except TypeError as ex:\n",
        "  print(f'Error type: {ex}')\n",
        "  print(\"str can not be divide as a int. Plesae review your code.\")\n",
        "else:\n",
        "  print(f\"Result: {result}\")"
      ],
      "metadata": {
        "colab": {
          "base_uri": "https://localhost:8080/"
        },
        "id": "NTFtHX8x3j3z",
        "outputId": "1aa593c2-5ace-4dfe-8520-e6aaa5b71a5d"
      },
      "execution_count": 35,
      "outputs": [
        {
          "output_type": "stream",
          "name": "stdout",
          "text": [
            "Please enter your first number: 20\n",
            "Please enter your second number: 10\n",
            "Result: 2.0\n"
          ]
        }
      ]
    },
    {
      "cell_type": "markdown",
      "source": [
        "### Module"
      ],
      "metadata": {
        "id": "hGzeC73m7t80"
      }
    },
    {
      "cell_type": "code",
      "source": [
        "# random module\n",
        "import random\n",
        "from random import randint\n",
        "\n",
        "# Give me a random number between 1 to 100\n",
        "print(randint(1, 100))\n",
        "\n",
        "# Select a random member from a list\n",
        "my_list = [\"Pejman\", \"Mike\", \"Sara\", \"Dani\"]\n",
        "random.choice(my_list)"
      ],
      "metadata": {
        "colab": {
          "base_uri": "https://localhost:8080/",
          "height": 54
        },
        "id": "ClObE1TJ6eTc",
        "outputId": "6e7509c5-0405-4e31-f97f-2d86497e991e"
      },
      "execution_count": 43,
      "outputs": [
        {
          "output_type": "stream",
          "name": "stdout",
          "text": [
            "5\n"
          ]
        },
        {
          "output_type": "execute_result",
          "data": {
            "text/plain": [
              "'Sara'"
            ],
            "application/vnd.google.colaboratory.intrinsic+json": {
              "type": "string"
            }
          },
          "metadata": {},
          "execution_count": 43
        }
      ]
    },
    {
      "cell_type": "code",
      "source": [
        "from datetime import datetime\n",
        "\n",
        "today_date = datetime.today()\n",
        "\n",
        "print(today_date)"
      ],
      "metadata": {
        "colab": {
          "base_uri": "https://localhost:8080/"
        },
        "id": "Xb6Qx5-18O26",
        "outputId": "6f9513c5-7068-410e-a444-3ecf8e7ab6f0"
      },
      "execution_count": 44,
      "outputs": [
        {
          "output_type": "stream",
          "name": "stdout",
          "text": [
            "2023-11-14 17:50:17.677096\n"
          ]
        }
      ]
    },
    {
      "cell_type": "code",
      "source": [
        "!pip install heroes"
      ],
      "metadata": {
        "colab": {
          "base_uri": "https://localhost:8080/"
        },
        "id": "P1TDYf2y9JTa",
        "outputId": "ba710ba8-2a77-4561-aa18-abbf31d473bd"
      },
      "execution_count": 45,
      "outputs": [
        {
          "output_type": "stream",
          "name": "stdout",
          "text": [
            "Collecting heroes\n",
            "  Downloading heroes-1.0.2.tar.gz (11 kB)\n",
            "  Preparing metadata (setup.py) ... \u001b[?25l\u001b[?25hdone\n",
            "Building wheels for collected packages: heroes\n",
            "  Building wheel for heroes (setup.py) ... \u001b[?25l\u001b[?25hdone\n",
            "  Created wheel for heroes: filename=heroes-1.0.2-py3-none-any.whl size=11173 sha256=e2187b1af01e3509e3361805a3a8a38e3854a002a8f2d09f003dae0503f6beb2\n",
            "  Stored in directory: /root/.cache/pip/wheels/13/49/ed/e7567e4664ef814157d74116c14734bc53be16d4b55743abdc\n",
            "Successfully built heroes\n",
            "Installing collected packages: heroes\n",
            "Successfully installed heroes-1.0.2\n"
          ]
        }
      ]
    },
    {
      "cell_type": "code",
      "source": [
        "import heroes\n",
        "\n",
        "# print (heroes.gen())\n",
        "\n",
        "print (heroes.genarr(3))"
      ],
      "metadata": {
        "colab": {
          "base_uri": "https://localhost:8080/"
        },
        "id": "liymMfQX91qL",
        "outputId": "68fedaf6-7ceb-4be8-fb1b-1e5f0a965c79"
      },
      "execution_count": 48,
      "outputs": [
        {
          "output_type": "stream",
          "name": "stdout",
          "text": [
            "['Black Cat', 'Maginty', 'Mad Thinker']\n"
          ]
        }
      ]
    },
    {
      "cell_type": "markdown",
      "source": [
        "### Project 2\n",
        "Please define your custom function for me.\n"
      ],
      "metadata": {
        "id": "3XPRVxcX-ork"
      }
    },
    {
      "cell_type": "code",
      "source": [],
      "metadata": {
        "id": "JFlp5Cyq-AhE"
      },
      "execution_count": null,
      "outputs": []
    }
  ]
}