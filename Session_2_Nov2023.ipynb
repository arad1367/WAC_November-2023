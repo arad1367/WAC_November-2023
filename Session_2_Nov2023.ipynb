{
  "nbformat": 4,
  "nbformat_minor": 0,
  "metadata": {
    "colab": {
      "provenance": [],
      "authorship_tag": "ABX9TyPnMEAr1K5lT3gyFHwvAdl/",
      "include_colab_link": true
    },
    "kernelspec": {
      "name": "python3",
      "display_name": "Python 3"
    },
    "language_info": {
      "name": "python"
    }
  },
  "cells": [
    {
      "cell_type": "markdown",
      "metadata": {
        "id": "view-in-github",
        "colab_type": "text"
      },
      "source": [
        "<a href=\"https://colab.research.google.com/github/arad1367/WAC_November-2023/blob/main/Session_2_Nov2023.ipynb\" target=\"_parent\"><img src=\"https://colab.research.google.com/assets/colab-badge.svg\" alt=\"Open In Colab\"/></a>"
      ]
    },
    {
      "cell_type": "markdown",
      "source": [
        "# What will we cover?\n",
        "* Dictionary\n",
        "* Sets\n",
        "* Tuple\n",
        "* Logical operators\n",
        "* Conditional statements (if, elif, else)\n",
        "* For loop\n",
        "* While loop\n",
        "* Project 1"
      ],
      "metadata": {
        "id": "Jzl0qeF2hqOl"
      }
    },
    {
      "cell_type": "markdown",
      "source": [
        "### 1. Dictionary in Python"
      ],
      "metadata": {
        "id": "VVLAYvRHqJEY"
      }
    },
    {
      "cell_type": "code",
      "execution_count": 16,
      "metadata": {
        "colab": {
          "base_uri": "https://localhost:8080/"
        },
        "id": "9EKA3cmEhlvp",
        "outputId": "64397484-2080-40ae-92dd-5818d892f0b4"
      },
      "outputs": [
        {
          "output_type": "execute_result",
          "data": {
            "text/plain": [
              "dict_items([('Key1', 100), ('Key2', 'Budapest'), ('Key3', [1, 2, 3, [1000, 'Mark']])])"
            ]
          },
          "metadata": {},
          "execution_count": 16
        }
      ],
      "source": [
        "# A dictionary is a key:value format.\n",
        "simple_dictionary = {\n",
        "    'Key1': 100,\n",
        "    'Key2': \"Budapest\",\n",
        "    'Key3': [1, 2, 3, [1000, \"Mark\"]]\n",
        "}\n",
        "\n",
        "simple_dictionary\n",
        "\n",
        "# Access to values with different keys\n",
        "simple_dictionary['Key1']\n",
        "simple_dictionary['Key2']\n",
        "simple_dictionary['Key3'][3][1]\n",
        "\n",
        "\n",
        "# Access to keys\n",
        "simple_dictionary.keys()\n",
        "\n",
        "# Access to values\n",
        "simple_dictionary.values()\n",
        "\n",
        "# Access to all keys:values\n",
        "simple_dictionary.items()"
      ]
    },
    {
      "cell_type": "code",
      "source": [
        "# A list of dictionaries\n",
        "# List starts with index\n",
        "# Dictionary starts with keys\n",
        "my_list = [\n",
        "    {\n",
        "      'a': 100,\n",
        "      'b': 2000\n",
        "    },\n",
        "    {\n",
        "        'c': 'Germany',\n",
        "        'd': 7.77777\n",
        "    }\n",
        "]\n",
        "\n",
        "\n",
        "my_list[0]['b']"
      ],
      "metadata": {
        "colab": {
          "base_uri": "https://localhost:8080/"
        },
        "id": "S1oqmYm4q7bL",
        "outputId": "434bd967-380f-4535-9ce3-4ab3a358c750"
      },
      "execution_count": 13,
      "outputs": [
        {
          "output_type": "execute_result",
          "data": {
            "text/plain": [
              "2000"
            ]
          },
          "metadata": {},
          "execution_count": 13
        }
      ]
    },
    {
      "cell_type": "markdown",
      "source": [
        "### 2. Sets in Python\n",
        "Sets methods: https://www.w3schools.com/python/python_ref_set.asp"
      ],
      "metadata": {
        "id": "nKCryrJHtk1g"
      }
    },
    {
      "cell_type": "code",
      "source": [
        "# We need to find unique values from a list\n",
        "list1 = [1, 1, 1, 6, 7, 7, 7, 7]\n",
        "set(list1)"
      ],
      "metadata": {
        "colab": {
          "base_uri": "https://localhost:8080/"
        },
        "id": "K_NvVnEis5xE",
        "outputId": "64d87534-58eb-4fab-acd2-842511fe091e"
      },
      "execution_count": 17,
      "outputs": [
        {
          "output_type": "execute_result",
          "data": {
            "text/plain": [
              "{1, 6, 7}"
            ]
          },
          "metadata": {},
          "execution_count": 17
        }
      ]
    },
    {
      "cell_type": "code",
      "source": [
        "# Define 2 different sets and see some methods\n",
        "set_1 = {1, 1, 3, 7, 9, 9, 10}\n",
        "set_2 = {0, 7, 9, 100, 200}\n",
        "\n",
        "# difference\n",
        "set_2.difference(set_1)\n",
        "\n",
        "# intersection\n",
        "set_1.intersection(set_2)\n",
        "\n",
        "# union\n",
        "set_1.union(set_2)"
      ],
      "metadata": {
        "colab": {
          "base_uri": "https://localhost:8080/"
        },
        "id": "gadnKCkQtwN5",
        "outputId": "23370fba-65e4-4691-feab-955ab1c71ae9"
      },
      "execution_count": 26,
      "outputs": [
        {
          "output_type": "execute_result",
          "data": {
            "text/plain": [
              "{0, 1, 3, 7, 9, 10, 100, 200}"
            ]
          },
          "metadata": {},
          "execution_count": 26
        }
      ]
    },
    {
      "cell_type": "markdown",
      "source": [
        "### 3. Tuple"
      ],
      "metadata": {
        "id": "Ap_npwMcvDNm"
      }
    },
    {
      "cell_type": "code",
      "source": [
        "my_tuple = (1, 2, 3, 1000000)\n",
        "\n",
        "# Tuple is not mutable\n",
        "my_tuple[0]\n",
        "my_tuple[3]"
      ],
      "metadata": {
        "colab": {
          "base_uri": "https://localhost:8080/"
        },
        "id": "6amJYytfuZyE",
        "outputId": "9b97d50c-2d04-486c-87d7-096ed417db64"
      },
      "execution_count": 29,
      "outputs": [
        {
          "output_type": "execute_result",
          "data": {
            "text/plain": [
              "1000000"
            ]
          },
          "metadata": {},
          "execution_count": 29
        }
      ]
    },
    {
      "cell_type": "markdown",
      "source": [
        "### 4. Logical operators"
      ],
      "metadata": {
        "id": "P5QlcV1nv7u7"
      }
    },
    {
      "cell_type": "code",
      "source": [
        "# and , or, not\n",
        "# and : If both sides of and are True, the answer is true\n",
        "# or:  If just one side is True the answer is True\n",
        "\n",
        "(5 > 3) and (5 == 5)\n",
        "(5 > 10) and (6 == 6)\n",
        "\n",
        "True or False\n",
        "\n",
        "not(5 > 1)\n",
        "\n",
        "not 0\n",
        "\n",
        "my_shopping_list = ['Notebook', 'Laptop', 'Pen']\n",
        "'Pen' in my_shopping_list\n",
        "'Car' not in my_shopping_list"
      ],
      "metadata": {
        "colab": {
          "base_uri": "https://localhost:8080/"
        },
        "id": "Da9Dma9Tvcrx",
        "outputId": "99289244-56b2-4bb3-df61-c70433144e86"
      },
      "execution_count": 39,
      "outputs": [
        {
          "output_type": "execute_result",
          "data": {
            "text/plain": [
              "True"
            ]
          },
          "metadata": {},
          "execution_count": 39
        }
      ]
    },
    {
      "cell_type": "markdown",
      "source": [
        "### 5. Conditional statement (if, elif, else)"
      ],
      "metadata": {
        "id": "L6f17ZexxWJj"
      }
    },
    {
      "cell_type": "code",
      "source": [
        "# Just input a number and check if the number is between 1 to 10\n",
        "\n",
        "number = int(input(\"Please enter a number: \"))\n",
        "\n",
        "if number >= 1 and number <= 10:\n",
        "  print(\"Inside of bound\")\n",
        "else:\n",
        "  print(\"Outside of bound\")"
      ],
      "metadata": {
        "colab": {
          "base_uri": "https://localhost:8080/"
        },
        "id": "ws5bi2XpwPG3",
        "outputId": "13b4abba-422b-4ce1-d108-9fd268f98eae"
      },
      "execution_count": 42,
      "outputs": [
        {
          "output_type": "stream",
          "name": "stdout",
          "text": [
            "Please enter a number: 1000000\n",
            "Outside of bound\n"
          ]
        }
      ]
    },
    {
      "cell_type": "code",
      "source": [
        "# elif\n",
        "number = int(input(\"Please enter a number: \"))\n",
        "\n",
        "if number < 0:\n",
        "  print('The number is negative')\n",
        "elif number < 30:\n",
        "  print(\"The number is smaller than 30\")\n",
        "elif number < 60:\n",
        "  print(\"The number is smaller than 60\")\n",
        "elif number < 100:\n",
        "  print(\"Smaller than 100\")\n",
        "else:\n",
        "  print(\"The number is equal or bigger than 100\")"
      ],
      "metadata": {
        "colab": {
          "base_uri": "https://localhost:8080/"
        },
        "id": "CPkQeF1cyciK",
        "outputId": "b50dae92-a09c-4d77-9f28-ab69d847646a"
      },
      "execution_count": 45,
      "outputs": [
        {
          "output_type": "stream",
          "name": "stdout",
          "text": [
            "Please enter a number: 22222222\n",
            "The number is equal or bigger than 100\n"
          ]
        }
      ]
    },
    {
      "cell_type": "markdown",
      "source": [
        "### 6. For loop\n",
        "*  To iterate through a sequence (such as a list, tuple, or string) or other iterable object."
      ],
      "metadata": {
        "id": "kPpWOx9vzbK1"
      }
    },
    {
      "cell_type": "code",
      "source": [
        "# A very simple for loop\n",
        "for i in range(12): # i=0, i=1, i=2 , ... i=9\n",
        "  print(i)"
      ],
      "metadata": {
        "colab": {
          "base_uri": "https://localhost:8080/"
        },
        "id": "wkMTnAN4zH72",
        "outputId": "31fcc0ab-e1d3-4109-f862-33b876a4bd37"
      },
      "execution_count": 47,
      "outputs": [
        {
          "output_type": "stream",
          "name": "stdout",
          "text": [
            "0\n",
            "1\n",
            "2\n",
            "3\n",
            "4\n",
            "5\n",
            "6\n",
            "7\n",
            "8\n",
            "9\n",
            "10\n",
            "11\n"
          ]
        }
      ]
    },
    {
      "cell_type": "code",
      "source": [
        "# Iterate on a list with for loop\n",
        "my_list = [\"Pejman\", \"Elina\", \"Mike\", \"Sara\", \"Andre\"]\n",
        "my_list2 = [1, 3, 3]\n",
        "\n",
        "# Solution 1\n",
        "for word in my_list2:\n",
        "  print(word)\n",
        "\n",
        "print('--------------\\n')\n",
        "\n",
        "# Solution 2\n",
        "for index in range(len(my_list)): ### for index in range(5) >>> index=0, index=1 ,...index=4\n",
        "  print(my_list[index])"
      ],
      "metadata": {
        "colab": {
          "base_uri": "https://localhost:8080/"
        },
        "id": "F1NOJ5z40FRU",
        "outputId": "b744f6ab-cfef-47a3-deb8-5e0d9db6acf0"
      },
      "execution_count": 51,
      "outputs": [
        {
          "output_type": "stream",
          "name": "stdout",
          "text": [
            "1\n",
            "3\n",
            "3\n",
            "--------------\n",
            "\n",
            "Pejman\n",
            "Elina\n",
            "Mike\n",
            "Sara\n",
            "Andre\n"
          ]
        }
      ]
    },
    {
      "cell_type": "code",
      "source": [
        "### Iterate on dictionary\n",
        "\n",
        "my_dictionary = {\n",
        "    \"name\" : \"Mark\",\n",
        "    \"age\" : 23,\n",
        "    \"eligible\": True\n",
        "}\n",
        "\n",
        "\n",
        "for key, value in my_dictionary.items():\n",
        "  print(f\"Key:{key} ------ value: {value}\")\n",
        "\n",
        "for key in my_dictionary.keys():\n",
        "  print(key)\n",
        "\n",
        "for value in my_dictionary.values():\n",
        "  print(value)"
      ],
      "metadata": {
        "colab": {
          "base_uri": "https://localhost:8080/"
        },
        "id": "Z_h9IGwV4kNm",
        "outputId": "0d83a3cb-e413-41d3-dbfb-5dbe98729919"
      },
      "execution_count": 60,
      "outputs": [
        {
          "output_type": "stream",
          "name": "stdout",
          "text": [
            "Key:name ------ value: Mark\n",
            "Key:age ------ value: 23\n",
            "Key:eligible ------ value: True\n",
            "name\n",
            "age\n",
            "eligible\n",
            "Mark\n",
            "23\n",
            "True\n"
          ]
        }
      ]
    },
    {
      "cell_type": "code",
      "source": [
        "### Example : Calculate sum of members inside of  a list  > Find a solution with for loop\n",
        "### I want to see sum in every step\n",
        "\n",
        "numbers = [10, 10, 10, 10, 10] # Sum = 50\n",
        "\n",
        "total = 0\n",
        "step = 0\n",
        "\n",
        "for num in numbers:\n",
        "  total += num  # total = total + num  # Update total sum\n",
        "  step += 1  # Update my steps\n",
        "  print(f\"Step {step}. total sum is: {total}\")"
      ],
      "metadata": {
        "colab": {
          "base_uri": "https://localhost:8080/"
        },
        "id": "RrPJDm_30kcJ",
        "outputId": "32767ec1-9dc8-411a-d9d9-fff91f2c8d73"
      },
      "execution_count": 52,
      "outputs": [
        {
          "output_type": "stream",
          "name": "stdout",
          "text": [
            "Step 1. total sum is: 10\n",
            "Step 2. total sum is: 20\n",
            "Step 3. total sum is: 30\n",
            "Step 4. total sum is: 40\n",
            "Step 5. total sum is: 50\n"
          ]
        }
      ]
    },
    {
      "cell_type": "code",
      "source": [
        "# Example : FizzBuzz problem\n",
        "# numbers between 1 to 100\n",
        "# number can be divided by both 3 and 5 >>>> print FizzBuzz\n",
        "# number is just divided by 3 >>> Fizz\n",
        "# number is just divided by 5 >>> Buzz\n",
        "\n",
        "for number in range(1, 101):\n",
        "  if (number % 3 == 0) and (number % 5 == 0):\n",
        "    print(\"FizzBuzz\")\n",
        "  elif number % 3 == 0:\n",
        "    print(\"Fizz\")\n",
        "  elif number % 5 == 0:\n",
        "    print(\"Buzz\")\n",
        "  else:\n",
        "    print(number)"
      ],
      "metadata": {
        "colab": {
          "base_uri": "https://localhost:8080/"
        },
        "id": "BY0TpT_T24pq",
        "outputId": "8e93039e-e4fa-496f-a9db-d2ab86deefac"
      },
      "execution_count": 57,
      "outputs": [
        {
          "output_type": "stream",
          "name": "stdout",
          "text": [
            "1\n",
            "2\n",
            "Fizz\n",
            "4\n",
            "Buzz\n",
            "Fizz\n",
            "7\n",
            "8\n",
            "Fizz\n",
            "Buzz\n",
            "11\n",
            "Fizz\n",
            "13\n",
            "14\n",
            "FizzBuzz\n",
            "16\n",
            "17\n",
            "Fizz\n",
            "19\n",
            "Buzz\n",
            "Fizz\n",
            "22\n",
            "23\n",
            "Fizz\n",
            "Buzz\n",
            "26\n",
            "Fizz\n",
            "28\n",
            "29\n",
            "FizzBuzz\n",
            "31\n",
            "32\n",
            "Fizz\n",
            "34\n",
            "Buzz\n",
            "Fizz\n",
            "37\n",
            "38\n",
            "Fizz\n",
            "Buzz\n",
            "41\n",
            "Fizz\n",
            "43\n",
            "44\n",
            "FizzBuzz\n",
            "46\n",
            "47\n",
            "Fizz\n",
            "49\n",
            "Buzz\n",
            "Fizz\n",
            "52\n",
            "53\n",
            "Fizz\n",
            "Buzz\n",
            "56\n",
            "Fizz\n",
            "58\n",
            "59\n",
            "FizzBuzz\n",
            "61\n",
            "62\n",
            "Fizz\n",
            "64\n",
            "Buzz\n",
            "Fizz\n",
            "67\n",
            "68\n",
            "Fizz\n",
            "Buzz\n",
            "71\n",
            "Fizz\n",
            "73\n",
            "74\n",
            "FizzBuzz\n",
            "76\n",
            "77\n",
            "Fizz\n",
            "79\n",
            "Buzz\n",
            "Fizz\n",
            "82\n",
            "83\n",
            "Fizz\n",
            "Buzz\n",
            "86\n",
            "Fizz\n",
            "88\n",
            "89\n",
            "FizzBuzz\n",
            "91\n",
            "92\n",
            "Fizz\n",
            "94\n",
            "Buzz\n",
            "Fizz\n",
            "97\n",
            "98\n",
            "Fizz\n",
            "Buzz\n"
          ]
        }
      ]
    },
    {
      "cell_type": "markdown",
      "source": [
        "### 7. while loop"
      ],
      "metadata": {
        "id": "6CrC_OYq5f1w"
      }
    },
    {
      "cell_type": "code",
      "source": [
        "count = 5\n",
        "while count < 10:\n",
        "  print(f'{count} >>> printed!')\n",
        "  count += 1"
      ],
      "metadata": {
        "colab": {
          "base_uri": "https://localhost:8080/"
        },
        "id": "fB2xhqn23nDP",
        "outputId": "fc70aa4b-a2e2-46ef-ba03-32a04323ff61"
      },
      "execution_count": 61,
      "outputs": [
        {
          "output_type": "stream",
          "name": "stdout",
          "text": [
            "5 >>> printed!\n",
            "6 >>> printed!\n",
            "7 >>> printed!\n",
            "8 >>> printed!\n",
            "9 >>> printed!\n"
          ]
        }
      ]
    },
    {
      "cell_type": "markdown",
      "source": [
        "### Convert a list to str"
      ],
      "metadata": {
        "id": "PcpjIkmw6Mav"
      }
    },
    {
      "cell_type": "code",
      "source": [
        "my_list = ['a', 'b', 'c', 'd']\n",
        "\n",
        "list_to_str = \"000\".join(my_list)\n",
        "list_to_str"
      ],
      "metadata": {
        "colab": {
          "base_uri": "https://localhost:8080/",
          "height": 36
        },
        "id": "Yw61mmXQ6Bce",
        "outputId": "97069aeb-5842-4811-ecf1-58394de4ec4c"
      },
      "execution_count": 64,
      "outputs": [
        {
          "output_type": "execute_result",
          "data": {
            "text/plain": [
              "'a000b000c000d'"
            ],
            "application/vnd.google.colaboratory.intrinsic+json": {
              "type": "string"
            }
          },
          "metadata": {},
          "execution_count": 64
        }
      ]
    },
    {
      "cell_type": "markdown",
      "source": [
        "### Project 1\n",
        "* Make a new list with just unique even numbers and it must be sorted.\n",
        "* For example : my_list = `[8 , 8, 1, 2, 2, 2, 2 , 11, 13, 0, 5]`\n",
        "Output = `[0, 2, 8]`\n",
        "\n",
        "* Your list for this project is: `[100, 10, 6, 6, 6, 2, 200, 11, 13, 7, 7, 0, 0, 2, 4, 98, -5, -4, -8]`\n",
        "Output=?"
      ],
      "metadata": {
        "id": "R9X15x0Q6_tk"
      }
    },
    {
      "cell_type": "code",
      "source": [],
      "metadata": {
        "id": "x-0SkP3o7JSN"
      },
      "execution_count": null,
      "outputs": []
    }
  ]
}