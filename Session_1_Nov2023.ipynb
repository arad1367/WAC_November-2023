{
  "nbformat": 4,
  "nbformat_minor": 0,
  "metadata": {
    "colab": {
      "provenance": [],
      "authorship_tag": "ABX9TyMCuA83Xqf8tkCCpQmh9lGZ",
      "include_colab_link": true
    },
    "kernelspec": {
      "name": "python3",
      "display_name": "Python 3"
    },
    "language_info": {
      "name": "python"
    }
  },
  "cells": [
    {
      "cell_type": "markdown",
      "metadata": {
        "id": "view-in-github",
        "colab_type": "text"
      },
      "source": [
        "<a href=\"https://colab.research.google.com/github/arad1367/WAC_November-2023/blob/main/Session_1_Nov2023.ipynb\" target=\"_parent\"><img src=\"https://colab.research.google.com/assets/colab-badge.svg\" alt=\"Open In Colab\"/></a>"
      ]
    },
    {
      "cell_type": "markdown",
      "source": [
        "### Introduction and resources\n",
        "\n",
        "About your instructor:\n",
        "https://www.linkedin.com/in/pejman-ebrahimi-4a60151a7/\n",
        "\n",
        "My google scholar:\n",
        "https://scholar.google.com/citations?user=zO-nHd0AAAAJ&hl=en\n",
        "\n",
        "Website:\n",
        "https://giltech-megoldasok.com/\n",
        "\n",
        "GitHub repository related to course:\n",
        "https://github.com/arad1367/WAC_November-2023\n",
        "\n",
        "W3School tutorial for Python:\n",
        "https://www.w3schools.com/python/default.asp\n",
        "\n",
        "Python best practice:\n",
        "https://www.hackerrank.com/\n"
      ],
      "metadata": {
        "id": "G9XjhUZdGGAS"
      }
    },
    {
      "cell_type": "markdown",
      "source": [
        "### Python programming\n",
        "* Why Python?\n",
        "** Ease Of Learning And Use\n",
        "** Top 10 Reasons Why Python is So Popular With Developers in 2023: https://www.upgrad.com/blog/reasons-why-python-popular-with-developers/\n",
        "* IDEs (An integrated development environment)\n",
        "** Python IDEs: PyCharm, Visual Studio Code, Spyder, Atom, and Eclipse with the PyDev plugin.\n",
        "* Google colab\n",
        "** Google Colab is a free, web-based platform that allows users to write and run code in their Google Drive. It provides an interactive environment for developing machine learning models and data analysis projects. With Colab, users can access popular libraries and frameworks like TensorFlow and Keras, as well as easily share and collaborate on projects with others."
      ],
      "metadata": {
        "id": "x2irbrOmzvXM"
      }
    },
    {
      "cell_type": "markdown",
      "source": [
        "### What is the purpose of learning session 1\n",
        "* Data types in Python\n",
        "* Operators in Python\n",
        "* Define variables\n",
        "* Input, String concatenation, String Interpolation, f-Strings\n",
        "* math module\n",
        "* Data stuctures: List, Dictionary, Sets and Tuple\n",
        "* List\n",
        "* List methods"
      ],
      "metadata": {
        "id": "bRhKcL5N0y1V"
      }
    },
    {
      "cell_type": "markdown",
      "source": [
        "### 1. Data types in Python"
      ],
      "metadata": {
        "id": "_u5V7yJdjGRb"
      }
    },
    {
      "cell_type": "code",
      "source": [
        "# Different data types in Python: Int, Float, String and boolean\n",
        "\n",
        "# Integer\n",
        "number = 7\n",
        "type(number)\n",
        "\n",
        "# float\n",
        "number2 = 7.76666\n",
        "type(number2)\n",
        "\n",
        "# string (str)\n",
        "name = \"Pejman\"\n",
        "type(name)\n",
        "\n",
        "# Boolean\n",
        "comparison = (10 < 6)\n",
        "comparison, type(comparison)"
      ],
      "metadata": {
        "id": "jhB5R2Z1dki5",
        "colab": {
          "base_uri": "https://localhost:8080/"
        },
        "outputId": "48458d8c-9bc5-48a2-e733-5a11c83013ce"
      },
      "execution_count": null,
      "outputs": [
        {
          "output_type": "execute_result",
          "data": {
            "text/plain": [
              "(False, bool)"
            ]
          },
          "metadata": {},
          "execution_count": 7
        }
      ]
    },
    {
      "cell_type": "markdown",
      "source": [
        "### 2. Operators in Python\n",
        "https://www.w3schools.com/python/python_operators.asp"
      ],
      "metadata": {
        "id": "Im5qKII4kLLP"
      }
    },
    {
      "cell_type": "code",
      "source": [
        "10 + 10\n",
        "\n",
        "10 - 5\n",
        "\n",
        "10 * 10\n",
        "\n",
        "10 / 2\n",
        "\n",
        "10 // 2\n",
        "\n",
        "20 % 6\n",
        "\n",
        "10 == 10\n",
        "\n",
        "1 != 10\n",
        "\n",
        "3 + (3 * 2)\n",
        "\n",
        "(7 - 2) ** (3 * 2)"
      ],
      "metadata": {
        "colab": {
          "base_uri": "https://localhost:8080/"
        },
        "id": "x703AOT3jaZ5",
        "outputId": "8f0f512a-4b2f-4548-cc28-97e313264067"
      },
      "execution_count": null,
      "outputs": [
        {
          "output_type": "execute_result",
          "data": {
            "text/plain": [
              "15625"
            ]
          },
          "metadata": {},
          "execution_count": 18
        }
      ]
    },
    {
      "cell_type": "markdown",
      "source": [
        "### 3. Define variables\n",
        "* A variable can consist of upper- and lowercase letters, the digits 0-9 and the underscore character.\n",
        "* The first character of a variable cannot be a digit.\n",
        "* Keywords like if or the Boolean True are reserved and cannot be used as variable names.\n",
        "* Variables are case-sensitive; therefore x is different from X."
      ],
      "metadata": {
        "id": "fvh8mF1ClsCR"
      }
    },
    {
      "cell_type": "code",
      "source": [
        "# Variables\n",
        "my_name = \"Pejman\"\n",
        "\n",
        "type(my_name)\n",
        "\n",
        "first_name = \"Andre\"\n",
        "last_name = \"Eriksson\"\n",
        "first_name, last_name\n",
        "\n",
        "# Constant\n",
        "PI = 3.14"
      ],
      "metadata": {
        "id": "dy34_Q7Ikbnh"
      },
      "execution_count": null,
      "outputs": []
    },
    {
      "cell_type": "markdown",
      "source": [
        "### 4. Input, String concatenation, String Interpolation, f-Strings\n",
        "* String methods: https://www.w3schools.com/python/python_ref_string.asp"
      ],
      "metadata": {
        "id": "JzxfC-nwnAuD"
      }
    },
    {
      "cell_type": "code",
      "source": [
        "# Input\n",
        "\n",
        "name = input(\"What is your name? \") # The output of input is a str\n",
        "print(\"My name is \" + name)"
      ],
      "metadata": {
        "colab": {
          "base_uri": "https://localhost:8080/"
        },
        "id": "KYe4NLKvmdjc",
        "outputId": "ef2c926a-cfed-4966-f4ae-bf17b354d7b1"
      },
      "execution_count": null,
      "outputs": [
        {
          "output_type": "stream",
          "name": "stdout",
          "text": [
            "What is your name? Adam\n",
            "My name is Adam\n"
          ]
        }
      ]
    },
    {
      "cell_type": "code",
      "source": [
        "# String concatenation\n",
        "\n",
        "first_name, last_name\n",
        "print(\"Your name is \" + first_name + \" \" + last_name)"
      ],
      "metadata": {
        "colab": {
          "base_uri": "https://localhost:8080/"
        },
        "id": "3sdJ6JUBna3g",
        "outputId": "250c0a47-3b73-4f71-ca18-f5626391398d"
      },
      "execution_count": null,
      "outputs": [
        {
          "output_type": "stream",
          "name": "stdout",
          "text": [
            "Your name is Andre Eriksson\n"
          ]
        }
      ]
    },
    {
      "cell_type": "code",
      "source": [
        "# f-string\n",
        "\n",
        "name = input(\"What is your name? \") # Ouput is str\n",
        "age = int(input(\"What is your age? \")) # Output is int\n",
        "color = input(\"Your favorite color? \")\n",
        "\n",
        "print(f\"Your name is {name}, you are {age} years old and your favorite color is {color}.\")"
      ],
      "metadata": {
        "colab": {
          "base_uri": "https://localhost:8080/"
        },
        "id": "w3xWd2LdnkPT",
        "outputId": "90d405c1-1bf5-4663-a9d5-5d3af3ba6693"
      },
      "execution_count": null,
      "outputs": [
        {
          "output_type": "stream",
          "name": "stdout",
          "text": [
            "What is your name? Jim\n",
            "What is your age? 30\n",
            "Your favorite color? Red\n",
            "Your name is Jim, you are 30 years old and your favorite color is Red.\n"
          ]
        }
      ]
    },
    {
      "cell_type": "code",
      "source": [
        "# String methods in Python\n",
        "\n",
        "statement = \"hey!, I love, Python.\"\n",
        "\n",
        "# Str is not mutable\n",
        "\n",
        "# String methods\n",
        "statement.upper()\n",
        "statement.lower()\n",
        "statement.capitalize()\n",
        "statement.index(\"l\") # Index in Python starts with 0 not 1\n",
        "statement.split(\",\")"
      ],
      "metadata": {
        "colab": {
          "base_uri": "https://localhost:8080/"
        },
        "id": "FuAklnJsoudA",
        "outputId": "6cc3c31d-0ac5-4252-a543-08941d158e31"
      },
      "execution_count": null,
      "outputs": [
        {
          "output_type": "execute_result",
          "data": {
            "text/plain": [
              "['hey!', ' I love', ' Python.']"
            ]
          },
          "metadata": {},
          "execution_count": 37
        }
      ]
    },
    {
      "cell_type": "markdown",
      "source": [
        "### 5. math module"
      ],
      "metadata": {
        "id": "kK9XooLYq8z1"
      }
    },
    {
      "cell_type": "code",
      "source": [
        "import math\n",
        "\n",
        "number = 3.333\n",
        "\n",
        "math.ceil(number)\n",
        "math.floor(number)\n",
        "math.sin(number)"
      ],
      "metadata": {
        "colab": {
          "base_uri": "https://localhost:8080/"
        },
        "id": "E2YOqp06pXHa",
        "outputId": "44dbc57c-3c33-425f-ad02-63ce7e96ad5e"
      },
      "execution_count": null,
      "outputs": [
        {
          "output_type": "execute_result",
          "data": {
            "text/plain": [
              "-0.19024072762619915"
            ]
          },
          "metadata": {},
          "execution_count": 41
        }
      ]
    },
    {
      "cell_type": "markdown",
      "source": [
        "### 6. List"
      ],
      "metadata": {
        "id": "AMZ53NJMsEWi"
      }
    },
    {
      "cell_type": "code",
      "source": [
        "# Define a list\n",
        "my_list = [10, 7.6, \"Pejman\", [], [100, 200, \"Germany\", [1, 1, 1000]]] # list has a 5 members. Index from 0 to 4\n",
        "my_list\n",
        "\n",
        "# List slicing and indexing\n",
        "my_list[2]\n",
        "my_list[4][3][2] # Access a member of nested list\n",
        "my_list[:3]\n",
        "my_list[2:]\n",
        "my_list[::-1] # start:end:step\n",
        "my_list[1::2]\n",
        "\n",
        "# List is mutable / str is not mutable\n",
        "my_list[0] = \"Hungary\"\n",
        "my_list"
      ],
      "metadata": {
        "colab": {
          "base_uri": "https://localhost:8080/"
        },
        "id": "PNgwGWZ9rX59",
        "outputId": "0e648679-792f-4a64-f50d-dfa23eaae27d"
      },
      "execution_count": null,
      "outputs": [
        {
          "output_type": "execute_result",
          "data": {
            "text/plain": [
              "['Hungary', 7.6, 'Pejman', [], [100, 200, 'Germany', [1, 1, 1000]]]"
            ]
          },
          "metadata": {},
          "execution_count": 56
        }
      ]
    },
    {
      "cell_type": "markdown",
      "source": [
        "7. List methods\n",
        "https://www.w3schools.com/python/python_ref_list.asp"
      ],
      "metadata": {
        "id": "3O_44106uksD"
      }
    },
    {
      "cell_type": "code",
      "source": [
        "### List methods\n",
        "initial_list = [2000, 3000, 1, 4, 8, 10, 1000]\n",
        "print(f\"My original list is: {initial_list}\")\n",
        "\n",
        "### append()\n",
        "initial_list.append(5000)\n",
        "print(f\"My updated list with append is: {initial_list}\")\n",
        "\n",
        "### insert\n",
        "initial_list.insert(0, \"Pejman\") # Shift+Ctrl+Space\n",
        "print(f\"My updated list with Insert a name is: {initial_list}\")\n",
        "\n",
        "### extend\n",
        "initial_list.extend([\"A\", \"B\"])\n",
        "print(f\"The updated list with extend method: {initial_list}\")\n",
        "\n",
        "### pop\n",
        "new_value = initial_list.pop()\n",
        "print(f\"Updated list: {initial_list}, new value is: {new_value}\")\n",
        "\n",
        "### List patterns\n",
        "# Length of your list\n",
        "len(initial_list)\n",
        "\n",
        "new_list = [1000, 4, 77, 1, 0]\n",
        "new_list.sort()\n",
        "new_list"
      ],
      "metadata": {
        "colab": {
          "base_uri": "https://localhost:8080/"
        },
        "id": "bpcVwVpvsveX",
        "outputId": "90f53188-6e3f-4cd5-de9e-a91315b33fbe"
      },
      "execution_count": null,
      "outputs": [
        {
          "output_type": "stream",
          "name": "stdout",
          "text": [
            "My original list is: [2000, 3000, 1, 4, 8, 10, 1000]\n",
            "My updated list with append is: [2000, 3000, 1, 4, 8, 10, 1000, 5000]\n",
            "My updated list with Insert a name is: ['Pejman', 2000, 3000, 1, 4, 8, 10, 1000, 5000]\n",
            "The updated list with extend method: ['Pejman', 2000, 3000, 1, 4, 8, 10, 1000, 5000, 'A', 'B']\n",
            "Updated list: ['Pejman', 2000, 3000, 1, 4, 8, 10, 1000, 5000, 'A'], new value is: B\n"
          ]
        },
        {
          "output_type": "execute_result",
          "data": {
            "text/plain": [
              "[0, 1, 4, 77, 1000]"
            ]
          },
          "metadata": {},
          "execution_count": 75
        }
      ]
    },
    {
      "cell_type": "code",
      "source": [],
      "metadata": {
        "id": "6ozzqCsru6VJ"
      },
      "execution_count": null,
      "outputs": []
    }
  ]
}