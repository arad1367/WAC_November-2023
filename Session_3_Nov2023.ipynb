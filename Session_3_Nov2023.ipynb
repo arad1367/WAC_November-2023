{
  "nbformat": 4,
  "nbformat_minor": 0,
  "metadata": {
    "colab": {
      "provenance": [],
      "authorship_tag": "ABX9TyOBaHNTf8ps4VWa+vUvbXl1",
      "include_colab_link": true
    },
    "kernelspec": {
      "name": "python3",
      "display_name": "Python 3"
    },
    "language_info": {
      "name": "python"
    }
  },
  "cells": [
    {
      "cell_type": "markdown",
      "metadata": {
        "id": "view-in-github",
        "colab_type": "text"
      },
      "source": [
        "<a href=\"https://colab.research.google.com/github/arad1367/WAC_November-2023/blob/main/Session_3_Nov2023.ipynb\" target=\"_parent\"><img src=\"https://colab.research.google.com/assets/colab-badge.svg\" alt=\"Open In Colab\"/></a>"
      ]
    },
    {
      "cell_type": "markdown",
      "source": [
        "### Agenda of session3\n",
        "\n",
        "* Project 1 (Solution)\n",
        "* Function in Python\n",
        "* Scope\n",
        "* Even and odd lists function\n",
        "* Default parameters & keyword arguments\n",
        "* *args (multiplication example)\n",
        "* **kwargs (total sum example)\n",
        "* Highest lowest function -> list\n",
        "* Highest lowest function -> dictionary\n",
        "* list comprehension\n",
        "* Functional programming"
      ],
      "metadata": {
        "id": "WQXvLX2mVe6T"
      }
    },
    {
      "cell_type": "markdown",
      "source": [
        "### Project 1 (Solution)\n",
        "\n",
        "Make a new list with just unique even numbers and it must be sorted.\n",
        "For example : my_list = [8, , 8, 1, 2, 2, 2, 2 , 11, 13, 0, 5]\n",
        "Output = [0, 2, 8]\n",
        "\n",
        "Your list for this project is: `[100, 10, 6, 6, 6, 2, 200, 11, 13, 7, 7, 0, 0, 2, 4, 98, -5, -4, -8]`\n",
        "Output=?"
      ],
      "metadata": {
        "id": "DrZRvFFog1N9"
      }
    },
    {
      "cell_type": "code",
      "execution_count": 2,
      "metadata": {
        "id": "EBqPT0rbVZl-",
        "colab": {
          "base_uri": "https://localhost:8080/"
        },
        "outputId": "aa9dd6d1-7c10-49fe-9a89-bd28063a0f33"
      },
      "outputs": [
        {
          "output_type": "stream",
          "name": "stdout",
          "text": [
            "The unique sorted list is: [-8, -4, 0, 2, 4, 6, 10, 98, 100, 200]\n"
          ]
        }
      ],
      "source": [
        "# Unique list / even numbers / sorted\n",
        "\n",
        "numbers_list = [100, 10, 6, 6, 6, 2, 200, 11, 13, 7, 7, 0, 0, 2, 4, 98, -5, -4, -8]\n",
        "\n",
        "even_numbers = []\n",
        "\n",
        "for number in numbers_list:\n",
        "  if (number % 2 == 0) and (number not in even_numbers):\n",
        "    even_numbers.append(number)\n",
        "# even_numbers.sort() # and we can use built-in function sorted()\n",
        "\n",
        "print(f\"The unique sorted list is: {sorted(even_numbers)}\")"
      ]
    },
    {
      "cell_type": "markdown",
      "source": [
        "### Function in Python\n",
        "\n",
        "* def name_of_function_lowercase():\n",
        "*  some calculations\n",
        "*  return result"
      ],
      "metadata": {
        "id": "qzRM2KMBk4mq"
      }
    },
    {
      "cell_type": "code",
      "source": [
        "def hello_world():\n",
        "  \"\"\"\n",
        "  This function can print a simple hello world in output.\n",
        "  \"\"\"\n",
        "  return 'Hello World!'"
      ],
      "metadata": {
        "id": "-55Q7VEMkhL8"
      },
      "execution_count": 3,
      "outputs": []
    },
    {
      "cell_type": "code",
      "source": [
        "# Docstring\n",
        "help(hello_world)\n",
        "\n",
        "print(hello_world.__doc__)\n",
        "\n",
        "# call the function\n",
        "hello_world()"
      ],
      "metadata": {
        "colab": {
          "base_uri": "https://localhost:8080/",
          "height": 36
        },
        "id": "2QDwPnvCl0qR",
        "outputId": "0c4f44cd-9e97-429f-fb6c-8982c62fc44d"
      },
      "execution_count": 8,
      "outputs": [
        {
          "output_type": "execute_result",
          "data": {
            "text/plain": [
              "'Hello World!'"
            ],
            "application/vnd.google.colaboratory.intrinsic+json": {
              "type": "string"
            }
          },
          "metadata": {},
          "execution_count": 8
        }
      ]
    },
    {
      "cell_type": "markdown",
      "source": [
        "### Scope"
      ],
      "metadata": {
        "id": "Ei4b-PGmmqXY"
      }
    },
    {
      "cell_type": "code",
      "source": [
        "# A variable outside of the function\n",
        "a = 10  # global variable\n",
        "\n",
        "# A variable inside of the function\n",
        "def number_display():\n",
        "  a = 5  # local variable\n",
        "  return a\n",
        "\n",
        "def use_global_variable():\n",
        "  global a  # a will start with a = 10\n",
        "  a += 1   # a = 10 + 1 -> a = 11\n",
        "  return a   # return 11\n",
        "\n",
        "print(use_global_variable())"
      ],
      "metadata": {
        "colab": {
          "base_uri": "https://localhost:8080/"
        },
        "id": "xjMq1OfGl87i",
        "outputId": "4f69477c-c5c9-4b9a-a386-5033c718a0b0"
      },
      "execution_count": 10,
      "outputs": [
        {
          "output_type": "stream",
          "name": "stdout",
          "text": [
            "11\n"
          ]
        }
      ]
    },
    {
      "cell_type": "markdown",
      "source": [
        "### Example: Even and odd lists function"
      ],
      "metadata": {
        "id": "jQoKD-1xno__"
      }
    },
    {
      "cell_type": "code",
      "source": [
        "my_list = [-7, -6, 0, 1 , 2, 3, 100, 1001, 5, 5, 3, 2, 2, 2]\n",
        "\n",
        "\n",
        "def even_odd_list(alist): # parameters\n",
        "  \"\"\"\n",
        "  This function can return two different lists, odd numbers list and even numbers list.\n",
        "  even numbers: 0, 2, 4, ...\n",
        "  odd numbers: 1, 3, 5, ...\n",
        "  \"\"\"\n",
        "  odd_numbers = []\n",
        "  even_numbers = []\n",
        "\n",
        "  for num in alist:\n",
        "    if num % 2 != 0: # odd number\n",
        "      odd_numbers.append(num)\n",
        "    else:\n",
        "      even_numbers.append(num)\n",
        "  return f'even list: {even_numbers}, odd_list: {odd_numbers}'\n",
        "\n",
        "# call the function\n",
        "even_odd_list(my_list) # arguments\n"
      ],
      "metadata": {
        "colab": {
          "base_uri": "https://localhost:8080/",
          "height": 36
        },
        "id": "T9DP9wxim9EZ",
        "outputId": "b1c049d5-8199-4fea-b226-e32e7373c25d"
      },
      "execution_count": 13,
      "outputs": [
        {
          "output_type": "execute_result",
          "data": {
            "text/plain": [
              "'even list: [-6, 0, 2, 100, 2, 2, 2], odd_list: [-7, 1, 3, 1001, 5, 5, 3]'"
            ],
            "application/vnd.google.colaboratory.intrinsic+json": {
              "type": "string"
            }
          },
          "metadata": {},
          "execution_count": 13
        }
      ]
    },
    {
      "cell_type": "code",
      "source": [
        "def add (a, b=1):\n",
        "  return a + b\n",
        "\n",
        "print(add(10, b=10))"
      ],
      "metadata": {
        "colab": {
          "base_uri": "https://localhost:8080/"
        },
        "id": "MQ5V70z2pmic",
        "outputId": "f2a1d6e6-16cc-4516-c913-83e6926ac060"
      },
      "execution_count": 15,
      "outputs": [
        {
          "output_type": "stream",
          "name": "stdout",
          "text": [
            "20\n"
          ]
        }
      ]
    },
    {
      "cell_type": "markdown",
      "source": [
        "### *args\n",
        "* *args is a special syntax in Python that allows you to define a function with a variable number of arguments."
      ],
      "metadata": {
        "id": "Bje7dz5nrYiw"
      }
    },
    {
      "cell_type": "code",
      "source": [
        "# Write a function can get many numbers and calculate total multiplication\n",
        "# (1, 2, 3, 4, 5) - > 120\n",
        "\n",
        "def total_multiplication(*args):\n",
        "  \"\"\"\n",
        "  This function can calculate multiplication of many numbers without limitations in numbers of parameters.\n",
        "  For example: (1, 2, 3, 4, 5) - > 120\n",
        "  \"\"\"\n",
        "  total = 1 # initial value\n",
        "  for arg in args:\n",
        "    total *= arg # total = total * arg >>> update total value\n",
        "  return f\"total multiplication: {total}\"\n",
        "\n",
        "\n",
        "# call the function\n",
        "total_multiplication(1, 2, 3, 4, 5)"
      ],
      "metadata": {
        "colab": {
          "base_uri": "https://localhost:8080/",
          "height": 36
        },
        "id": "8CZYYa7iq_h2",
        "outputId": "852695f2-ca1f-4672-ec6f-997e635d6f26"
      },
      "execution_count": 16,
      "outputs": [
        {
          "output_type": "execute_result",
          "data": {
            "text/plain": [
              "'total multiplication: 120'"
            ],
            "application/vnd.google.colaboratory.intrinsic+json": {
              "type": "string"
            }
          },
          "metadata": {},
          "execution_count": 16
        }
      ]
    },
    {
      "cell_type": "markdown",
      "source": [
        "### **kwargs\n",
        "\n",
        "* In Python, kwargs is a keyword argument that allows a function to receive a variable number of arguments as a tuple, i.e. func(**kwargs)."
      ],
      "metadata": {
        "id": "p963IvNTtBXl"
      }
    },
    {
      "cell_type": "code",
      "source": [
        "# both args and kwargs in one example\n",
        "# For example : write a function can calculate total of many args and kwargs\n",
        "\n",
        "def total_args_kwargs(*args, **kwargs): # parameters\n",
        "  \"\"\"\n",
        "  This function can iterate on many args, kwargs and calculate total of them.\n",
        "  For example: total_args_kwargs(20, 10, 5, number1=5, number2=10)  -> output: 50\n",
        "  \"\"\"\n",
        "  # total of args\n",
        "  total_args = sum(args) # 20 + 10 + 5\n",
        "  # total of kwargs\n",
        "  total_kwargs = 0\n",
        "  # use a loop\n",
        "  for value in kwargs.values():\n",
        "    total_kwargs += value\n",
        "  result = total_args + total_kwargs\n",
        "  return f\"The final result is: {result}\"\n",
        "\n",
        "# Call the function\n",
        "total_args_kwargs(20, 10, 5, number1=5, number2=10, number3=100)"
      ],
      "metadata": {
        "colab": {
          "base_uri": "https://localhost:8080/",
          "height": 36
        },
        "id": "Xnt2Vk2Rs018",
        "outputId": "0ee5b265-ef76-465c-e991-ccf44cf90c63"
      },
      "execution_count": 18,
      "outputs": [
        {
          "output_type": "execute_result",
          "data": {
            "text/plain": [
              "'The final result is: 150'"
            ],
            "application/vnd.google.colaboratory.intrinsic+json": {
              "type": "string"
            }
          },
          "metadata": {},
          "execution_count": 18
        }
      ]
    },
    {
      "cell_type": "markdown",
      "source": [
        "### Highest lowest function   ->  list\n",
        "\n",
        "We have a list and we want to find lowest and highest values inside of a list"
      ],
      "metadata": {
        "id": "jJUgUWWSwS9x"
      }
    },
    {
      "cell_type": "code",
      "source": [
        "numbers = [0, 4, -7, 1, 100000, -100, 7, 7, 88, 888, -20000000000000]\n",
        "\n",
        "# Solution 1\n",
        "# max(numbers), min(numbers)\n",
        "\n",
        "# Solution 2: write a function\n",
        "def lowest_highest_value(mylist):\n",
        "  \"\"\"\n",
        "  This function can find min and max inside of a list.\n",
        "  \"\"\"\n",
        "  min_value = 0\n",
        "  max_value = 0\n",
        "  for number in mylist:\n",
        "    if number < min_value:\n",
        "      min_value = number\n",
        "    if number > max_value:\n",
        "      max_value = number\n",
        "  return f\"min value: {min_value}, max_value: {max_value}\"\n",
        "\n",
        "# Call the function\n",
        "lowest_highest_value(numbers)"
      ],
      "metadata": {
        "colab": {
          "base_uri": "https://localhost:8080/",
          "height": 36
        },
        "id": "NjZh0sc-wSdl",
        "outputId": "3e7e786f-3107-43f8-a97e-2e3b9fa094fb"
      },
      "execution_count": 22,
      "outputs": [
        {
          "output_type": "execute_result",
          "data": {
            "text/plain": [
              "'min value: -20000000000000, max_value: 100000'"
            ],
            "application/vnd.google.colaboratory.intrinsic+json": {
              "type": "string"
            }
          },
          "metadata": {},
          "execution_count": 22
        }
      ]
    },
    {
      "cell_type": "markdown",
      "source": [
        "### Find lowest and highest key and value inside of a dictionary\n",
        "\n",
        "\n",
        "simple_dictionary = {\n",
        "  'A': 10,\n",
        "  'B': -10,\n",
        "  'C': 100,\n",
        "  'D': -90\n",
        "}\n",
        "\n",
        "* min_key = 'D'  min_value = -90\n",
        "* max_key = 'C'  max_value = 100\n",
        "\n",
        "* `You need 4 outputs in your return part.`"
      ],
      "metadata": {
        "id": "XN4rI94yyXTe"
      }
    },
    {
      "cell_type": "code",
      "source": [
        "simple_dictionary = { 'A': 10, 'B': -10, 'C': 100, 'D': -90 }\n",
        "\n",
        "simple_dictionary['A']"
      ],
      "metadata": {
        "colab": {
          "base_uri": "https://localhost:8080/"
        },
        "id": "EPjqAeBQwrh2",
        "outputId": "d443c919-2c12-4888-b8de-79463447a0c5"
      },
      "execution_count": 24,
      "outputs": [
        {
          "output_type": "execute_result",
          "data": {
            "text/plain": [
              "10"
            ]
          },
          "metadata": {},
          "execution_count": 24
        }
      ]
    },
    {
      "cell_type": "markdown",
      "source": [
        "### list comprehension"
      ],
      "metadata": {
        "id": "LEOS7RyIzOjq"
      }
    },
    {
      "cell_type": "code",
      "source": [
        "# Example without list comprehension\n",
        "fruits = [\"apple\", \"banana\", \"cherry\", \"kiwi\", \"mango\"]\n",
        "\n",
        "# We have 4 lines of code\n",
        "newlist = []\n",
        "for fruit in fruits:\n",
        "  if \"a\" in fruit:\n",
        "    newlist.append(fruit)\n",
        "\n",
        "print(f'answer without list comprehension: {newlist}')\n",
        "\n",
        "# Use list comprehension (1 line)\n",
        "new_fruit_list = [fruit for fruit in fruits if 'a' in fruit]\n",
        "print(f'answet with list comprehension: {new_fruit_list}')\n",
        "\n",
        "print(\"Both answers are the same?\\n\")\n",
        "new_fruit_list == newlist"
      ],
      "metadata": {
        "colab": {
          "base_uri": "https://localhost:8080/"
        },
        "id": "n1IiHebmzJum",
        "outputId": "33ab153a-d315-4f1a-91f1-562b65dab357"
      },
      "execution_count": 27,
      "outputs": [
        {
          "output_type": "stream",
          "name": "stdout",
          "text": [
            "answer without list comprehension: ['apple', 'banana', 'mango']\n",
            "answet with list comprehension: ['apple', 'banana', 'mango']\n",
            "Both answers are the same?\n",
            "\n"
          ]
        },
        {
          "output_type": "execute_result",
          "data": {
            "text/plain": [
              "True"
            ]
          },
          "metadata": {},
          "execution_count": 27
        }
      ]
    },
    {
      "cell_type": "markdown",
      "source": [
        "### Functional programming (map, filter, ...)\n",
        "* Functional programming is a programming paradigm that emphasizes the use of declarative code and composing functions to solve problems.\n",
        "\n",
        "* map(function,list)"
      ],
      "metadata": {
        "id": "zs9or-dA1q-l"
      }
    },
    {
      "cell_type": "code",
      "source": [
        "numbers_list = [1, 2, 3, 4] # list -> [2, 4, 6, 8]\n",
        "second_list = [10, 100, 1000]\n",
        "\n",
        "def multiple_two (a):\n",
        "  return a * 2\n",
        "\n",
        "print(list(map(multiple_two, second_list)))"
      ],
      "metadata": {
        "colab": {
          "base_uri": "https://localhost:8080/"
        },
        "id": "RqUlI4Vw0J-J",
        "outputId": "fe302adf-f159-467f-95cc-17e424dc4e0a"
      },
      "execution_count": 30,
      "outputs": [
        {
          "output_type": "stream",
          "name": "stdout",
          "text": [
            "[20, 200, 2000]\n"
          ]
        }
      ]
    },
    {
      "cell_type": "code",
      "source": [],
      "metadata": {
        "id": "zQo2XaJs2b0j"
      },
      "execution_count": null,
      "outputs": []
    }
  ]
}