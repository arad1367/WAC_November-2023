{
  "nbformat": 4,
  "nbformat_minor": 0,
  "metadata": {
    "colab": {
      "provenance": [],
      "authorship_tag": "ABX9TyMbdDzTIGj7Kap6pKiKoDSL",
      "include_colab_link": true
    },
    "kernelspec": {
      "name": "python3",
      "display_name": "Python 3"
    },
    "language_info": {
      "name": "python"
    }
  },
  "cells": [
    {
      "cell_type": "markdown",
      "metadata": {
        "id": "view-in-github",
        "colab_type": "text"
      },
      "source": [
        "<a href=\"https://colab.research.google.com/github/arad1367/WAC_November-2023/blob/main/Project_1_solution.ipynb\" target=\"_parent\"><img src=\"https://colab.research.google.com/assets/colab-badge.svg\" alt=\"Open In Colab\"/></a>"
      ]
    },
    {
      "cell_type": "markdown",
      "source": [
        "### Project 1\n",
        "\n",
        "Make a new list with just unique even numbers and it must be\n",
        "sorted.\n",
        "* For example : `my_list = [8, , 8, 1, 2, 2, 2, 2 , 11, 13, 0, 5]`\n",
        "* Output = `[0, 2, 8]`\n",
        "\n",
        "Your list for this project is: `[100, 10, 6, 6, 6, 2, 200, 11, 13, 7, 7, 0, 0, 2, 4, 98, -5, -4, -8]`\n",
        "`Output=?`"
      ],
      "metadata": {
        "id": "jRHZmIbVSlxX"
      }
    },
    {
      "cell_type": "code",
      "execution_count": 1,
      "metadata": {
        "colab": {
          "base_uri": "https://localhost:8080/"
        },
        "id": "XRZPexdgSa_0",
        "outputId": "8c465c7b-a975-41d1-b98a-f1876420b911"
      },
      "outputs": [
        {
          "output_type": "stream",
          "name": "stdout",
          "text": [
            "Sorted unique list is: [-8, -4, 0, 2, 4, 6, 10, 98, 100, 200]\n"
          ]
        }
      ],
      "source": [
        "# Solution 1\n",
        "\n",
        "numbers_list = [100, 10, 6, 6, 6, 2, 200, 11, 13, 7, 7, 0, 0, 2, 4, 98, -5, -4, -8]\n",
        "\n",
        "even_numbers = []\n",
        "for num in numbers_list:\n",
        "  if (num not in even_numbers) and (num % 2 == 0):\n",
        "    even_numbers.append(num)\n",
        "even_numbers.sort()\n",
        "\n",
        "print(f\"Sorted unique list is: {even_numbers}\")"
      ]
    },
    {
      "cell_type": "code",
      "source": [
        "# Solution 2\n",
        "\n",
        "numbers_list = [100, 10, 6, 6, 6, 2, 200, 11, 13, 7, 7, 0, 0, 2, 4, 98, -5, -4, -8]\n",
        "\n",
        "even_numbers_list = []\n",
        "\n",
        "for number in range(len(numbers_list)):\n",
        "  if numbers_list[number] not in even_numbers_list:\n",
        "    if numbers_list[number] % 2 == 0:\n",
        "      even_numbers_list.append(numbers_list[number])\n",
        "\n",
        "print(f\"Sorted unique list is: {sorted(even_numbers_list)}\")"
      ],
      "metadata": {
        "colab": {
          "base_uri": "https://localhost:8080/"
        },
        "id": "nUfv1JjiTnPj",
        "outputId": "c1ffc915-895f-4d0a-eb96-92fbc6c43ab9"
      },
      "execution_count": 3,
      "outputs": [
        {
          "output_type": "stream",
          "name": "stdout",
          "text": [
            "Sorted unique list is: [-8, -4, 0, 2, 4, 6, 10, 98, 100, 200]\n"
          ]
        }
      ]
    },
    {
      "cell_type": "code",
      "source": [
        "# Solution 3\n",
        "\n",
        "numbers_list = [100, 10, 6, 6, 6, 2, 200, 11, 13, 7, 7, 0, 0, 2, 4, 98, -5, -4, -8]\n",
        "\n",
        "even_list = []\n",
        "\n",
        "for num in numbers_list:\n",
        "  if num % 2 == 0:\n",
        "    even_list.append(num)\n",
        "\n",
        "print(f\"Sorted unique list is: {sorted(set(even_list))}\")"
      ],
      "metadata": {
        "colab": {
          "base_uri": "https://localhost:8080/"
        },
        "id": "QtvBVm4FUQLC",
        "outputId": "9bd4de43-761a-4e34-ac6d-ede8baa16115"
      },
      "execution_count": 5,
      "outputs": [
        {
          "output_type": "stream",
          "name": "stdout",
          "text": [
            "Sorted unique list is: [-8, -4, 0, 2, 4, 6, 10, 98, 100, 200]\n"
          ]
        }
      ]
    },
    {
      "cell_type": "code",
      "source": [],
      "metadata": {
        "id": "o0WKH4U6U0vG"
      },
      "execution_count": null,
      "outputs": []
    }
  ]
}